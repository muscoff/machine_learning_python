{
  "nbformat": 4,
  "nbformat_minor": 0,
  "metadata": {
    "colab": {
      "provenance": [],
      "authorship_tag": "ABX9TyMoLkY7/+XuzeUgzLxQIeIi",
      "include_colab_link": true
    },
    "kernelspec": {
      "name": "python3",
      "display_name": "Python 3"
    },
    "language_info": {
      "name": "python"
    }
  },
  "cells": [
    {
      "cell_type": "markdown",
      "metadata": {
        "id": "view-in-github",
        "colab_type": "text"
      },
      "source": [
        "<a href=\"https://colab.research.google.com/github/muscoff/machine_learning_python/blob/main/KNN_K_Nearest_Neighbor.ipynb\" target=\"_parent\"><img src=\"https://colab.research.google.com/assets/colab-badge.svg\" alt=\"Open In Colab\"/></a>"
      ]
    },
    {
      "cell_type": "code",
      "execution_count": 8,
      "metadata": {
        "colab": {
          "base_uri": "https://localhost:8080/"
        },
        "id": "P744nMUH0-02",
        "outputId": "6031993f-cf87-445c-cc45-5cb785c2e516"
      },
      "outputs": [
        {
          "output_type": "stream",
          "name": "stdout",
          "text": [
            "Predicted val unacc Input val (0, 0, 2, 1, 2, 0) Actual val unacc\n",
            "Predicted val good Input val (1, 0, 0, 1, 1, 0) Actual val good\n",
            "Predicted val good Input val (1, 1, 1, 1, 1, 0) Actual val acc\n",
            "Predicted val vgood Input val (0, 3, 0, 2, 0, 1) Actual val vgood\n",
            "Predicted val unacc Input val (2, 3, 0, 3, 2, 0) Actual val unacc\n",
            "Predicted val vgood Input val (0, 0, 1, 3, 0, 0) Actual val vgood\n"
          ]
        }
      ],
      "source": [
        "import pandas as pd\n",
        "import numpy as np\n",
        "import sklearn\n",
        "from sklearn.model_selection import train_test_split\n",
        "from sklearn.neighbors import KNeighborsClassifier\n",
        "from sklearn import preprocessing\n",
        "\n",
        "data = pd.read_csv('car.data')\n",
        "\n",
        "prediction_label = 'class'\n",
        "\n",
        "# Label Encoder\n",
        "'''\n",
        "I am using the preprocessing.LabelEncoder method to convert some labels\n",
        "into values.\n",
        "For example, the values at the buying column are vhigh, high etc and \n",
        "we need to work with numeric values to make things easier\n",
        "'''\n",
        "le = preprocessing.LabelEncoder()\n",
        "buying = le.fit_transform(list(data['buying']))\n",
        "maint = le.fit_transform(list(data['maint']))\n",
        "lug_boot = le.fit_transform(list(data['lug_boot']))\n",
        "door = le.fit_transform(list(data['door']))\n",
        "persons = le.fit_transform(list(data['persons']))\n",
        "safety = le.fit_transform(list(data['safety']))\n",
        "dclass = le.fit_transform(list(data['class']))\n",
        "\n",
        "class_unique = data['class'].unique()\n",
        "\n",
        "X = list(zip(buying, maint, lug_boot, door, persons, safety))\n",
        "y = list(dclass)\n",
        "\n",
        "X_train, X_test, y_train, y_test = train_test_split(X, y, test_size=0.1)\n",
        "\n",
        "model = KNeighborsClassifier(n_neighbors=7)\n",
        "model.fit(X_train, y_train)\n",
        "\n",
        "acc = model.score(X_test, y_test)\n",
        "predictions = model.predict(X_test)\n",
        "\n",
        "# for x in range(len(predictions)):\n",
        "#   if x <= 5:\n",
        "#     print('Predicted val', class_unique[predictions[x]], 'Input val', X_test[x], 'Actual val', class_unique[y_test[x]])\n",
        "\n",
        "\n"
      ]
    },
    {
      "cell_type": "code",
      "source": [],
      "metadata": {
        "id": "9a4fRfdjhzcQ"
      },
      "execution_count": null,
      "outputs": []
    }
  ]
}