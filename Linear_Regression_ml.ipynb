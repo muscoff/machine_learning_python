{
  "nbformat": 4,
  "nbformat_minor": 0,
  "metadata": {
    "colab": {
      "provenance": [],
      "authorship_tag": "ABX9TyMaJ+YXptQeZEXhCSqa0oZM",
      "include_colab_link": true
    },
    "kernelspec": {
      "name": "python3",
      "display_name": "Python 3"
    },
    "language_info": {
      "name": "python"
    }
  },
  "cells": [
    {
      "cell_type": "markdown",
      "metadata": {
        "id": "view-in-github",
        "colab_type": "text"
      },
      "source": [
        "<a href=\"https://colab.research.google.com/github/muscoff/machine_learning_python/blob/main/Linear_Regression_ml.ipynb\" target=\"_parent\"><img src=\"https://colab.research.google.com/assets/colab-badge.svg\" alt=\"Open In Colab\"/></a>"
      ]
    },
    {
      "cell_type": "code",
      "execution_count": 2,
      "metadata": {
        "colab": {
          "base_uri": "https://localhost:8080/"
        },
        "id": "2UhJtsccJ8Xd",
        "outputId": "200c68ed-2f5d-40cf-b76c-3733ff3dfb5a"
      },
      "outputs": [
        {
          "output_type": "execute_result",
          "data": {
            "text/plain": [
              "array([111.9736432])"
            ]
          },
          "metadata": {},
          "execution_count": 2
        }
      ],
      "source": [
        "import tensorflow\n",
        "import pandas as pd\n",
        "import numpy as np\n",
        "import sklearn\n",
        "from sklearn import linear_model\n",
        "from sklearn.model_selection import train_test_split\n",
        "\n",
        "data = pd.read_csv('student-mat.csv', sep=';')\n",
        "\n",
        "# labels from the data that I am working with\n",
        "working_labels = ['G1', 'G2', 'G3', 'studytime', 'absences', 'failures']\n",
        "data = data[working_labels]\n",
        "\n",
        "# The label category that I want to predict\n",
        "predict_label = 'G3'\n",
        "\n",
        "# Getting all data without the G3 label data and transforming it into numpy array\n",
        "X = data.drop(columns=[predict_label])\n",
        "X = np.array(X)\n",
        "\n",
        "# Getting the G3 data only and transforming it into numpy array\n",
        "y = data[predict_label]\n",
        "y = np.array(y)\n",
        "\n",
        "# Train data\n",
        "X_train, X_test, y_train, y_test = train_test_split(X, y, test_size=0.1)\n",
        "\n",
        "linear = linear_model.LinearRegression()\n",
        "\n",
        "# Get the best fit line for our linear model\n",
        "linear.fit(X_train, y_train)\n",
        "\n",
        "# acc is the accurancy score of our linear regression model on our data\n",
        "acc = linear.score(X_test, y_test)\n",
        "\n",
        "predictions = linear.predict(X_test)\n",
        "\n",
        "# for x in range(len(predictions)):\n",
        "#   if x == 0:\n",
        "#     print('Predicted score', predictions[x], 'Input value', X_test[x], 'actual value', y_test[x])\n",
        "\n",
        "\n",
        "\n"
      ]
    }
  ]
}