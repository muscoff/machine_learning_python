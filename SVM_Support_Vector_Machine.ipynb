{
  "nbformat": 4,
  "nbformat_minor": 0,
  "metadata": {
    "colab": {
      "provenance": [],
      "authorship_tag": "ABX9TyPq35RxZnuYbPN85pOuMflw",
      "include_colab_link": true
    },
    "kernelspec": {
      "name": "python3",
      "display_name": "Python 3"
    },
    "language_info": {
      "name": "python"
    }
  },
  "cells": [
    {
      "cell_type": "markdown",
      "metadata": {
        "id": "view-in-github",
        "colab_type": "text"
      },
      "source": [
        "<a href=\"https://colab.research.google.com/github/muscoff/machine_learning_python/blob/main/SVM_Support_Vector_Machine.ipynb\" target=\"_parent\"><img src=\"https://colab.research.google.com/assets/colab-badge.svg\" alt=\"Open In Colab\"/></a>"
      ]
    },
    {
      "cell_type": "code",
      "execution_count": 19,
      "metadata": {
        "colab": {
          "base_uri": "https://localhost:8080/"
        },
        "id": "7QYDo3To_wWu",
        "outputId": "3675cd04-4fc9-45b9-991b-80e735524d69"
      },
      "outputs": [
        {
          "output_type": "execute_result",
          "data": {
            "text/plain": [
              "0.9473684210526315"
            ]
          },
          "metadata": {},
          "execution_count": 19
        }
      ],
      "source": [
        "import sklearn\n",
        "from sklearn import datasets\n",
        "from sklearn import svm\n",
        "from sklearn.model_selection import train_test_split\n",
        "from sklearn import metrics\n",
        "\n",
        "'''\n",
        "The kernel is more like the line that splits between the different objects that need to be classified.\n",
        "The soft margin denoted as c is helpful in ensuring that we take care of outliers.\n",
        "'''\n",
        "\n",
        "# We are using the breast cancer dataset\n",
        "data = datasets.load_breast_cancer()\n",
        "\n",
        "target_names = data.target_names\n",
        "feature_names = data.feature_names\n",
        "\n",
        "X = data.data\n",
        "y = data.target\n",
        "\n",
        "X_train, X_test, y_train, y_test = train_test_split(X, y, test_size=0.1)\n",
        "\n",
        "# cls = classifier\n",
        "cls = svm.SVC(kernel=\"linear\")\n",
        "cls.fit(X_train, y_train)\n",
        "\n",
        "y_pred = cls.predict(X_test)\n",
        "acc = metrics.accuracy_score(y_test, y_pred)\n",
        "\n",
        "acc\n"
      ]
    },
    {
      "cell_type": "code",
      "source": [],
      "metadata": {
        "id": "ADhCmwtMFKDJ"
      },
      "execution_count": null,
      "outputs": []
    }
  ]
}